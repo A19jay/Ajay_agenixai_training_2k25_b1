{
 "cells": [
  {
   "cell_type": "code",
   "execution_count": 3,
   "metadata": {},
   "outputs": [],
   "source": [
    "import pandas as pd\n",
    "import numpy as np\n",
    "from sklearn.preprocessing import LabelEncoder, StandardScaler\n",
    "import matplotlib.pyplot as plt\n",
    "import seaborn as sns"
   ]
  },
  {
   "cell_type": "code",
   "execution_count": 5,
   "metadata": {},
   "outputs": [],
   "source": [
    "# Load the dataset\n",
    "data = pd.read_csv(r'C:\\Users\\ajayr\\OneDrive\\Desktop\\agenix\\student_performance_analysis\\raw\\student_performance_data.csv')"
   ]
  },
  {
   "cell_type": "code",
   "execution_count": 6,
   "metadata": {},
   "outputs": [
    {
     "name": "stdout",
     "output_type": "stream",
     "text": [
      "Initial Data Overview:\n",
      "<class 'pandas.core.frame.DataFrame'>\n",
      "RangeIndex: 1000 entries, 0 to 999\n",
      "Data columns (total 9 columns):\n",
      " #   Column                     Non-Null Count  Dtype  \n",
      "---  ------                     --------------  -----  \n",
      " 0   StudentID                  1000 non-null   object \n",
      " 1   Age                        1000 non-null   int64  \n",
      " 2   Gender                     1000 non-null   object \n",
      " 3   SocioeconomicStatus        1000 non-null   object \n",
      " 4   Grades                     1000 non-null   float64\n",
      " 5   Attendance                 1000 non-null   float64\n",
      " 6   TimeSpentOnHomework        1000 non-null   float64\n",
      " 7   ClassParticipation         1000 non-null   object \n",
      " 8   AcademicPerformanceStatus  1000 non-null   object \n",
      "dtypes: float64(3), int64(1), object(5)\n",
      "memory usage: 70.4+ KB\n",
      "None\n",
      "             Age       Grades   Attendance  TimeSpentOnHomework\n",
      "count  1000.0000  1000.000000  1000.000000          1000.000000\n",
      "mean     17.9600    74.892793    79.448395             2.245859\n",
      "std       2.0036    14.428974    11.417765             1.009563\n",
      "min      15.0000    50.000582    60.001229             0.500795\n",
      "25%      16.0000    62.442623    69.451976             1.400813\n",
      "50%      18.0000    75.155411    79.329503             2.191778\n",
      "75%      20.0000    87.201111    89.137688             3.131317\n",
      "max      21.0000    99.944631    99.982308             3.995775\n"
     ]
    }
   ],
   "source": [
    "# Display basic information\n",
    "print(\"Initial Data Overview:\")\n",
    "print(data.info())\n",
    "print(data.describe())"
   ]
  },
  {
   "cell_type": "code",
   "execution_count": 7,
   "metadata": {},
   "outputs": [
    {
     "name": "stdout",
     "output_type": "stream",
     "text": [
      "Missing Values:\n",
      "StudentID                    0\n",
      "Age                          0\n",
      "Gender                       0\n",
      "SocioeconomicStatus          0\n",
      "Grades                       0\n",
      "Attendance                   0\n",
      "TimeSpentOnHomework          0\n",
      "ClassParticipation           0\n",
      "AcademicPerformanceStatus    0\n",
      "dtype: int64\n"
     ]
    }
   ],
   "source": [
    "# Check for missing values\n",
    "print(\"Missing Values:\")\n",
    "print(data.isnull().sum())"
   ]
  },
  {
   "cell_type": "code",
   "execution_count": 8,
   "metadata": {},
   "outputs": [],
   "source": [
    "# Handle missing values (if any)\n",
    "data = data.dropna()"
   ]
  },
  {
   "cell_type": "code",
   "execution_count": 10,
   "metadata": {},
   "outputs": [],
   "source": [
    "# Encoding categorical variables\n",
    "label_encoders = {}\n",
    "categorical_columns = ['Gender', 'SocioeconomicStatus', 'ClassParticipation', 'AcademicPerformanceStatus']\n",
    "for col in categorical_columns:\n",
    "    le = LabelEncoder()\n",
    "    data[col] = le.fit_transform(data[col])\n",
    "    label_encoders[col] = le"
   ]
  },
  {
   "cell_type": "code",
   "execution_count": 11,
   "metadata": {},
   "outputs": [],
   "source": [
    "# Feature Scaling (Standardization)\n",
    "scaler = StandardScaler()\n",
    "numerical_columns = ['Age', 'Grades', 'Attendance', 'TimeSpentOnHomework']\n",
    "data[numerical_columns] = scaler.fit_transform(data[numerical_columns])"
   ]
  },
  {
   "cell_type": "code",
   "execution_count": 12,
   "metadata": {},
   "outputs": [
    {
     "data": {
      "image/png": "[encoded data removed]",
      "text/plain": [
       "<Figure size 1000x600 with 1 Axes>"
      ]
     },
     "metadata": {},
     "output_type": "display_data"
    }
   ],
   "source": [
    "# Outlier Detection using Boxplot\n",
    "plt.figure(figsize=(10,6))\n",
    "sns.boxplot(data=data[numerical_columns])\n",
    "plt.title(\"Boxplot of Numerical Features\")\n",
    "plt.show()"
   ]
  },
  {
   "cell_type": "code",
   "execution_count": 13,
   "metadata": {},
   "outputs": [
    {
     "name": "stdout",
     "output_type": "stream",
     "text": [
      "Data preprocessing completed and saved as 'preprocessed_student_data.csv'.\n"
     ]
    }
   ],
   "source": [
    "# Save the preprocessed dataset\n",
    "data.to_csv('preprocessed_student_data.csv', index=False)\n",
    "print(\"Data preprocessing completed and saved as 'preprocessed_student_data.csv'.\")"
   ]
  }
 ],
 "metadata": {
  "kernelspec": {
   "display_name": "venv",
   "language": "python",
   "name": "python3"
  },
  "language_info": {
   "codemirror_mode": {
    "name": "ipython",
    "version": 3
   },
   "file_extension": ".py",
   "mimetype": "text/x-python",
   "name": "python",
   "nbconvert_exporter": "python",
   "pygments_lexer": "ipython3",
   "version": "3.12.6"
  }
 },
 "nbformat": 4,
 "nbformat_minor": 2
}
