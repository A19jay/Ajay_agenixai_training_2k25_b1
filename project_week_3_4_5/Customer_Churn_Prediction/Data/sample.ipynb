{
 "cells": [
  {
   "cell_type": "code",
   "execution_count": 4,
   "metadata": {},
   "outputs": [
    {
     "name": "stdout",
     "output_type": "stream",
     "text": [
      "Defaulting to user installation because normal site-packages is not writeable\n",
      "Collecting pandas\n",
      "  Using cached pandas-2.2.3-cp312-cp312-win_amd64.whl.metadata (19 kB)\n",
      "Requirement already satisfied: numpy in c:\\users\\ajayr\\appdata\\roaming\\python\\python312\\site-packages (2.2.2)\n",
      "Requirement already satisfied: scikit-learn in c:\\users\\ajayr\\appdata\\roaming\\python\\python312\\site-packages (1.6.1)\n",
      "Collecting matplotlib\n",
      "  Downloading matplotlib-3.10.1-cp312-cp312-win_amd64.whl.metadata (11 kB)\n",
      "Collecting seaborn\n",
      "  Using cached seaborn-0.13.2-py3-none-any.whl.metadata (5.4 kB)\n",
      "Requirement already satisfied: joblib in c:\\users\\ajayr\\appdata\\roaming\\python\\python312\\site-packages (1.4.2)\n",
      "Requirement already satisfied: python-dateutil>=2.8.2 in c:\\users\\ajayr\\appdata\\roaming\\python\\python312\\site-packages (from pandas) (2.9.0.post0)\n",
      "Collecting pytz>=2020.1 (from pandas)\n",
      "  Using cached pytz-2025.1-py2.py3-none-any.whl.metadata (22 kB)\n",
      "Collecting tzdata>=2022.7 (from pandas)\n",
      "  Using cached tzdata-2025.1-py2.py3-none-any.whl.metadata (1.4 kB)\n",
      "Requirement already satisfied: scipy>=1.6.0 in c:\\users\\ajayr\\appdata\\roaming\\python\\python312\\site-packages (from scikit-learn) (1.15.1)\n",
      "Requirement already satisfied: threadpoolctl>=3.1.0 in c:\\users\\ajayr\\appdata\\roaming\\python\\python312\\site-packages (from scikit-learn) (3.5.0)\n",
      "Collecting contourpy>=1.0.1 (from matplotlib)\n",
      "  Downloading contourpy-1.3.1-cp312-cp312-win_amd64.whl.metadata (5.4 kB)\n",
      "Collecting cycler>=0.10 (from matplotlib)\n",
      "  Using cached cycler-0.12.1-py3-none-any.whl.metadata (3.8 kB)\n",
      "Collecting fonttools>=4.22.0 (from matplotlib)\n",
      "  Downloading fonttools-4.56.0-cp312-cp312-win_amd64.whl.metadata (103 kB)\n",
      "Collecting kiwisolver>=1.3.1 (from matplotlib)\n",
      "  Downloading kiwisolver-1.4.8-cp312-cp312-win_amd64.whl.metadata (6.3 kB)\n",
      "Requirement already satisfied: packaging>=20.0 in c:\\users\\ajayr\\appdata\\roaming\\python\\python312\\site-packages (from matplotlib) (24.2)\n",
      "Collecting pillow>=8 (from matplotlib)\n",
      "  Downloading pillow-11.1.0-cp312-cp312-win_amd64.whl.metadata (9.3 kB)\n",
      "Collecting pyparsing>=2.3.1 (from matplotlib)\n",
      "  Downloading pyparsing-3.2.1-py3-none-any.whl.metadata (5.0 kB)\n",
      "Requirement already satisfied: six>=1.5 in c:\\users\\ajayr\\appdata\\roaming\\python\\python312\\site-packages (from python-dateutil>=2.8.2->pandas) (1.17.0)\n",
      "Using cached pandas-2.2.3-cp312-cp312-win_amd64.whl (11.5 MB)\n",
      "Downloading matplotlib-3.10.1-cp312-cp312-win_amd64.whl (8.1 MB)\n",
      "   ---------------------------------------- 0.0/8.1 MB ? eta -:--:--\n",
      "   ----- ---------------------------------- 1.0/8.1 MB 5.6 MB/s eta 0:00:02\n",
      "   -------------- ------------------------- 2.9/8.1 MB 7.3 MB/s eta 0:00:01\n",
      "   ---------------------- ----------------- 4.5/8.1 MB 7.4 MB/s eta 0:00:01\n",
      "   ------------------------------- -------- 6.3/8.1 MB 7.7 MB/s eta 0:00:01\n",
      "   ---------------------------------------- 8.1/8.1 MB 7.8 MB/s eta 0:00:00\n",
      "Using cached seaborn-0.13.2-py3-none-any.whl (294 kB)\n",
      "Downloading contourpy-1.3.1-cp312-cp312-win_amd64.whl (220 kB)\n",
      "Using cached cycler-0.12.1-py3-none-any.whl (8.3 kB)\n",
      "Downloading fonttools-4.56.0-cp312-cp312-win_amd64.whl (2.2 MB)\n",
      "   ---------------------------------------- 0.0/2.2 MB ? eta -:--:--\n",
      "   ----------------------- ---------------- 1.3/2.2 MB 9.6 MB/s eta 0:00:01\n",
      "   ---------------------------------------- 2.2/2.2 MB 7.7 MB/s eta 0:00:00\n",
      "Downloading kiwisolver-1.4.8-cp312-cp312-win_amd64.whl (71 kB)\n",
      "Downloading pillow-11.1.0-cp312-cp312-win_amd64.whl (2.6 MB)\n",
      "   ---------------------------------------- 0.0/2.6 MB ? eta -:--:--\n",
      "   ----------------------- ---------------- 1.6/2.6 MB 9.4 MB/s eta 0:00:01\n",
      "   ---------------------------------------- 2.6/2.6 MB 8.4 MB/s eta 0:00:00\n",
      "Downloading pyparsing-3.2.1-py3-none-any.whl (107 kB)\n",
      "Using cached pytz-2025.1-py2.py3-none-any.whl (507 kB)\n",
      "Using cached tzdata-2025.1-py2.py3-none-any.whl (346 kB)\n",
      "Installing collected packages: pytz, tzdata, pyparsing, pillow, kiwisolver, fonttools, cycler, contourpy, pandas, matplotlib, seaborn\n",
      "Successfully installed contourpy-1.3.1 cycler-0.12.1 fonttools-4.56.0 kiwisolver-1.4.8 matplotlib-3.10.1 pandas-2.2.3 pillow-11.1.0 pyparsing-3.2.1 pytz-2025.1 seaborn-0.13.2 tzdata-2025.1\n",
      "Note: you may need to restart the kernel to use updated packages.\n"
     ]
    }
   ],
   "source": [
    "pip install pandas numpy scikit-learn matplotlib seaborn joblib\n"
   ]
  },
  {
   "cell_type": "code",
   "execution_count": 5,
   "metadata": {},
   "outputs": [
    {
     "name": "stdout",
     "output_type": "stream",
     "text": [
      "Synthetic dataset generated and saved as 'customer_churn_data.csv'.\n"
     ]
    }
   ],
   "source": [
    "import pandas as pd\n",
    "import numpy as np\n",
    "import random\n",
    "\n",
    "# Set random seed for reproducibility\n",
    "np.random.seed(42)\n",
    "\n",
    "# Parameters for dataset generation\n",
    "num_customers = 1000  # Number of customers to simulate\n",
    "\n",
    "# Generate Customer IDs\n",
    "customer_ids = [f\"C{str(i).zfill(4)}\" for i in range(1, num_customers + 1)]\n",
    "\n",
    "# Generate Customer Demographics\n",
    "ages = np.random.randint(18, 80, size=num_customers)  # Age between 18 and 80\n",
    "locations = np.random.choice(['Urban', 'Rural', 'Suburban'], size=num_customers, p=[0.5, 0.3, 0.2])\n",
    "plan_types = np.random.choice(['Basic', 'Premium'], size=num_customers, p=[0.7, 0.3])\n",
    "\n",
    "# Generate Usage Patterns\n",
    "average_call_duration = np.random.uniform(1, 30, size=num_customers)  # Average call duration in minutes\n",
    "data_usage = np.random.uniform(0.5, 50, size=num_customers)  # Data usage in GB\n",
    "number_of_calls = np.random.randint(10, 300, size=num_customers)  # Number of calls per month\n",
    "\n",
    "# Generate Billing Information\n",
    "monthly_charges = np.random.uniform(20, 150, size=num_customers)  # Monthly charges in dollars\n",
    "payment_methods = np.random.choice(['CreditCard', 'BankTransfer'], size=num_customers, p=[0.6, 0.4])\n",
    "\n",
    "# Generate Churn Status\n",
    "# Churn is influenced by factors like high monthly charges, low usage, and plan type\n",
    "churn_probabilities = (\n",
    "    0.3 * (monthly_charges > 100) +  # Higher churn probability for high charges\n",
    "    0.2 * (data_usage < 5) +        # Higher churn probability for low data usage\n",
    "    0.1 * (plan_types == 'Basic')   # Higher churn probability for Basic plans\n",
    ")\n",
    "churn_status = np.random.choice(['Yes', 'No'], size=num_customers, p=[0.2, 0.8])\n",
    "\n",
    "# Create DataFrame\n",
    "data = pd.DataFrame({\n",
    "    'CustomerID': customer_ids,\n",
    "    'Age': ages,\n",
    "    'Location': locations,\n",
    "    'PlanType': plan_types,\n",
    "    'AverageCallDuration': average_call_duration,\n",
    "    'DataUsage': data_usage,\n",
    "    'NumberOfCalls': number_of_calls,\n",
    "    'MonthlyCharges': monthly_charges,\n",
    "    'PaymentMethod': payment_methods,\n",
    "    'ChurnStatus': churn_status\n",
    "})\n",
    "\n",
    "# Save to CSV\n",
    "data.to_csv('customer_churn_data.csv', index=False)\n",
    "\n",
    "print(\"Synthetic dataset generated and saved as 'customer_churn_data.csv'.\")"
   ]
  },
  {
   "cell_type": "code",
   "execution_count": null,
   "metadata": {},
   "outputs": [],
   "source": []
  }
 ],
 "metadata": {
  "kernelspec": {
   "display_name": "Python 3",
   "language": "python",
   "name": "python3"
  },
  "language_info": {
   "codemirror_mode": {
    "name": "ipython",
    "version": 3
   },
   "file_extension": ".py",
   "mimetype": "text/x-python",
   "name": "python",
   "nbconvert_exporter": "python",
   "pygments_lexer": "ipython3",
   "version": "3.12.6"
  }
 },
 "nbformat": 4,
 "nbformat_minor": 2
}
